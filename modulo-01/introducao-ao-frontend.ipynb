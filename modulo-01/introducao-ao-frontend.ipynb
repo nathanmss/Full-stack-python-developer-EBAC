{
 "cells": [
  {
   "cell_type": "markdown",
   "metadata": {},
   "source": [
    "## Entendendo HTML"
   ]
  },
  {
   "cell_type": "markdown",
   "metadata": {},
   "source": [
    "- HyperText Markup Language.\n",
    "- Estrutura Elementos nas Paginas.\n",
    "- Codigo Interpretado pelos Navegadores."
   ]
  },
  {
   "cell_type": "markdown",
   "metadata": {},
   "source": [
    "É uma linguagem de marcação de hypert texto. É responsavel por dar a estrutura das de elementos da paginas, ou seja, vai informar o que é um artigo, titulo, paragrafo, sessão. \n",
    "Tambem dar elementos que agregam na pagina, como links, imagens, videos. Todas as aplicações WEB que existem que precisam rodar no navegador, utiliza HTML."
   ]
  },
  {
   "cell_type": "markdown",
   "metadata": {},
   "source": [
    "## Entendendo CSS"
   ]
  },
  {
   "cell_type": "markdown",
   "metadata": {},
   "source": [
    "- Cascade Style Sheet\n",
    "- Estilo / visual\n",
    "- Layout web / mobile\n",
    "\n",
    "    Basicamente o codico é escrito em cascata, com todas as propriedades de estilo dos elementos. É responsavel pelo estilo da pagina e dos elementos da pagina, podendo ser estilizado da forma que quisermos. Responsavel tambem pela navegação mais fluida.\n",
    "    Tambem conseguimos fazer pequenas animações na pagina.\n",
    "\n",
    "    Criar classes para elementos do mesmo tipe."
   ]
  },
  {
   "cell_type": "markdown",
   "metadata": {},
   "source": [
    "## Entendendo JAVA SCRIPT"
   ]
  },
  {
   "cell_type": "markdown",
   "metadata": {},
   "source": [
    "- Principal linguem web\n",
    "\n",
    "\n",
    "    Se extende alem do front, tambem para o backend. Podemos até controlar banco de dados.\n",
    "    Possue diversas alicações. Tem algumas variações como o typescript."
   ]
  }
 ],
 "metadata": {
  "kernelspec": {
   "display_name": "Python 3",
   "language": "python",
   "name": "python3"
  },
  "language_info": {
   "codemirror_mode": {
    "name": "ipython",
    "version": 3
   },
   "file_extension": ".py",
   "mimetype": "text/x-python",
   "name": "python",
   "nbconvert_exporter": "python",
   "pygments_lexer": "ipython3",
   "version": "3.12.3"
  }
 },
 "nbformat": 4,
 "nbformat_minor": 2
}
